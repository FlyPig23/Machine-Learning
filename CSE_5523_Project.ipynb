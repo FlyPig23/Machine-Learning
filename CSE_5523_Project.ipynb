{
  "nbformat": 4,
  "nbformat_minor": 0,
  "metadata": {
    "colab": {
      "name": "CSE 5523 Project.ipynb",
      "provenance": [],
      "collapsed_sections": [
        "uZyJJOoEsXTn",
        "hiVxMgH7srzE",
        "Xw2ZtjMsDuAu",
        "0a2BViWGszih",
        "20HyO3NKtBSV",
        "QrZDaRGEtOVV",
        "d-kJoEQJtTRP"
      ],
      "include_colab_link": true
    },
    "kernelspec": {
      "name": "python3",
      "display_name": "Python 3"
    },
    "language_info": {
      "name": "python"
    }
  },
  "cells": [
    {
      "cell_type": "markdown",
      "metadata": {
        "id": "view-in-github",
        "colab_type": "text"
      },
      "source": [
        "<a href=\"https://colab.research.google.com/github/FlyPig23/Machine-Learning/blob/main/CSE_5523_Project.ipynb\" target=\"_parent\"><img src=\"https://colab.research.google.com/assets/colab-badge.svg\" alt=\"Open In Colab\"/></a>"
      ]
    },
    {
      "cell_type": "markdown",
      "source": [
        "# Project: Stochastic Gradient Descent\n",
        "**Authors: Adam Wang, Hangxiao Zhu**"
      ],
      "metadata": {
        "id": "zUMKG-UuL9rz"
      }
    },
    {
      "cell_type": "markdown",
      "source": [
        "## Generate data"
      ],
      "metadata": {
        "id": "yKmVbdYPbdwn"
      }
    },
    {
      "cell_type": "markdown",
      "source": [
        "**Data Distribution D:** In practice, the data distribution is usually unknown. However, since you will be asked to generate training and test examples for the sake of running your experiments, we will describe a data distribution from which examples will be generated for each scenario. (Nevertheless, note that the SGD learner should remain oblivious to the distribution). Each example (x, y) is generated as follows:\n",
        "\n",
        "\n",
        "*   with probability 1/2, set y = −1 and generate a (d−1)-dimensional Gaussian \n",
        "vector u ∼ N(μ0, σ2Id−1) where μ0 = (−1/4, −1/4, −1/4, −1/4) and Id−1 is the identity matrix of rank d − 1, that is, u is composed of 4 i.i.d. Gaussian components, each of mean −1/4 and variance σ2 (σ will be specified later).\n",
        "*   with the remaining probability, set y = 1 and generate u ∼ N (μ1, σ2Id−1) where μ1 = (1/4, 1/4, 1/4, 1/4)."
      ],
      "metadata": {
        "id": "LgBg-Sx8dFBV"
      }
    },
    {
      "cell_type": "code",
      "source": [
        "# Import libraries.\n",
        "import numpy as np \n",
        "import matplotlib.pyplot as plt"
      ],
      "metadata": {
        "id": "M2pzoltZbdjd"
      },
      "execution_count": null,
      "outputs": []
    },
    {
      "cell_type": "code",
      "source": [
        "# Fix the size of testing data set as required.\n",
        "TESTING_SIZE=30"
      ],
      "metadata": {
        "id": "EzlpRJecpd3z"
      },
      "execution_count": null,
      "outputs": []
    },
    {
      "cell_type": "code",
      "source": [
        "# This function generates the data using the distribution introduced in the project instruction.\n",
        "def generate_data(size, sigma):\n",
        "  data = np.zeros((4, size))\n",
        "  labels = np.zeros((1, size))\n",
        "  for x in range(0,size):\n",
        "    if np.random.rand() > 0.5:\n",
        "      data.T[x] = euclidean_projection(np.array([np.random.normal(-1/4, sigma), np.random.normal(-1/4, sigma), np.random.normal(-1/4, sigma), np.random.normal(-1/4, sigma)]))\n",
        "      labels.T[x] = -1\n",
        "    else:\n",
        "      data.T[x] = euclidean_projection(np.array([np.random.normal(1/4, sigma), np.random.normal(1/4, sigma), np.random.normal(1/4, sigma), np.random.normal(1/4, sigma)]))\n",
        "      labels.T[x] = 1\n",
        "  data = np.vstack((np.ones((1, size)), data))\n",
        "  return data, labels"
      ],
      "metadata": {
        "id": "lFnNRqAEUm2N"
      },
      "execution_count": null,
      "outputs": []
    },
    {
      "cell_type": "markdown",
      "source": [
        "Then, set x = ΠX(u) where ΠX is the Euclidean projection on to X,that is,u generated above is projected onto X (in case it lies outside X) and the resulting vector is denoted as x, which represents the feature vector."
      ],
      "metadata": {
        "id": "wBBRKD9zshgR"
      }
    },
    {
      "cell_type": "code",
      "source": [
        "# This function compute the euclidean projection of a point to the parameter set C (which is specified in the project introduction).\n",
        "def euclidean_projection(u):\n",
        "  size = u.size\n",
        "  origin = np.zeros(size)\n",
        "  distance = np.linalg.norm(u - origin)\n",
        "  x = u\n",
        "  if distance > 1:\n",
        "    x = u / np.linalg.norm(u)\n",
        "  return x"
      ],
      "metadata": {
        "id": "mBYNQonlshFE"
      },
      "execution_count": null,
      "outputs": []
    },
    {
      "cell_type": "markdown",
      "source": [
        "## SGD Implementation"
      ],
      "metadata": {
        "id": "N3LXEmE5lVFo"
      }
    },
    {
      "cell_type": "code",
      "source": [
        "# This function outputs the logistic loss given a dataset, the correct label set of that dataset, and a weight vector.\n",
        "def logistic_loss(w, x, y): \n",
        "  return np.log(1 + np.exp(-y * np.dot(w, x)))"
      ],
      "metadata": {
        "id": "HaRLxHg_aUcX"
      },
      "execution_count": null,
      "outputs": []
    },
    {
      "cell_type": "code",
      "source": [
        "# This function outputs the gradient of logistic loss given a dataset, the correct label set of that dataset, and a weight vector.\n",
        "def logistic_loss_gradient(w, x, y):\n",
        "  return (-y * x * np.exp(-y * np.dot(w, x))) / (1 + np.exp(-y * np.dot(w, x)))"
      ],
      "metadata": {
        "id": "mJ5GxWO2kvKc"
      },
      "execution_count": null,
      "outputs": []
    },
    {
      "cell_type": "markdown",
      "source": [
        "logistic_loss is convex and ||x||-Lipschitz\n",
        "\n",
        "ρ = 5, M = 2"
      ],
      "metadata": {
        "id": "T1kUEZf4RcO_"
      }
    },
    {
      "cell_type": "code",
      "source": [
        "# This function is the implementation of SGD.\n",
        "def SGD(data, labels, T, eta):\n",
        "  w = np.zeros((T, 5)) # Create the array to store weight vertor for all the iterations.\n",
        "  for t in range(0,T-1):\n",
        "    i = np.random.randint(data.shape[1]) # Randomly draw a data from the dataset.\n",
        "    G = logistic_loss_gradient(w[t], data.T[i], labels.T[i]) # Compute the gradient.\n",
        "    w[t + 1] = euclidean_projection((w[t].reshape(1, 5) - eta*G)) # Update the weight.\n",
        "  return np.mean(w, axis=0) "
      ],
      "metadata": {
        "id": "mJiZubyoQF5V"
      },
      "execution_count": null,
      "outputs": []
    },
    {
      "cell_type": "code",
      "source": [
        "# This function runs the SGD and computes different metrics.\n",
        "def run(eta,training_size, sigma, testing_data, testing_labels):\n",
        "  trials = 30\n",
        "  T = training_size\n",
        "  training_data, training_labels = generate_data(training_size, sigma)  \n",
        "  w = np.zeros((trials, 5))\n",
        "  mean_loss = np.zeros((trials, 1)) # Array to store the average of logistic loss for each trial.\n",
        "  std_loss = np.zeros((trials, 1)) # Array to store the standard deviation of logistic loss for each trial.\n",
        "  min_loss = np.zeros((trials, 1)) # Array to store the minimum value of logistic loss for each trial.\n",
        "  classification_error = np.zeros((trials, 1)) # Array to store the classification error for each trial.\n",
        "\n",
        "  for i in range(0,trials):\n",
        "    w[i] = SGD(training_data, training_labels, T, eta)\n",
        "    traing_loss = logistic_loss(w[i], training_data, training_labels)\n",
        "    testing_loss = logistic_loss(w[i], testing_data, testing_labels)\n",
        "    mean_loss[i] = np.average(testing_loss)\n",
        "    std_loss[i] = np.std(testing_loss)\n",
        "    min_loss[i] = np.min(testing_loss)\n",
        "\n",
        "    # Compute the classification error.\n",
        "    temp = np.sign(np.dot(w[i], testing_data)) - testing_labels\n",
        "    errors = np.where(temp == 0, temp, 1) # Set the values that not equals to 0 (2 and -2) to 1.\n",
        "    classification_error[i] = np.average(errors)\n",
        "\n",
        "  return np.mean(mean_loss), np.mean(std_loss), np.mean(min_loss), np.mean(mean_loss-min_loss), np.mean(classification_error), np.std(classification_error)"
      ],
      "metadata": {
        "id": "-UnkBiCwdbxC"
      },
      "execution_count": null,
      "outputs": []
    },
    {
      "cell_type": "markdown",
      "source": [
        "## Experiment"
      ],
      "metadata": {
        "id": "TOZoceSQDTPB"
      }
    },
    {
      "cell_type": "markdown",
      "source": [
        "### Create an array to store excess_risks and mean_errors."
      ],
      "metadata": {
        "id": "N0CNOIY-6OAA"
      }
    },
    {
      "cell_type": "code",
      "source": [
        "plot_data_1 = np.zeros((4, 2))\n",
        "yerr_1 = np.zeros((4, 2))"
      ],
      "metadata": {
        "id": "J2KlbJQz6W2C"
      },
      "execution_count": null,
      "outputs": []
    },
    {
      "cell_type": "markdown",
      "source": [
        "### sigma = 0.1, n = 50"
      ],
      "metadata": {
        "id": "Rj8ARIWkX58P"
      }
    },
    {
      "cell_type": "code",
      "source": [
        "testing_data, testing_labels = generate_data(TESTING_SIZE, 0.1)"
      ],
      "metadata": {
        "id": "V58DKiuZpStP"
      },
      "execution_count": null,
      "outputs": []
    },
    {
      "cell_type": "code",
      "source": [
        "mean_loss, std_loss, min_loss, excess_risk, mean_error, std_error = run(eta=0.1, training_size=50, sigma=0.1, testing_data=testing_data, testing_labels=testing_labels)\n",
        "print(mean_loss, std_loss, min_loss, excess_risk, mean_error, std_error)\n",
        "plot_data_1[0, :] = [excess_risk, mean_error]\n",
        "yerr_1[0, :] = [std_loss, std_error]"
      ],
      "metadata": {
        "id": "ytmLjrPhoaXR",
        "colab": {
          "base_uri": "https://localhost:8080/"
        },
        "outputId": "d55199ad-a6f2-44c1-ac7e-a6645e7d2cb7"
      },
      "execution_count": null,
      "outputs": [
        {
          "output_type": "stream",
          "name": "stdout",
          "text": [
            "0.5592018440074678 0.06699547140481578 0.4645300528164705 0.09467179119099726 0.07888888888888888 0.14919123530341194\n"
          ]
        }
      ]
    },
    {
      "cell_type": "markdown",
      "source": [
        "### sigma = 0.1, n = 100"
      ],
      "metadata": {
        "id": "SyjFW9gMrSQh"
      }
    },
    {
      "cell_type": "code",
      "source": [
        "testing_data, testing_labels = generate_data(TESTING_SIZE, 0.1)"
      ],
      "metadata": {
        "id": "owvPyuoqsMTQ"
      },
      "execution_count": null,
      "outputs": []
    },
    {
      "cell_type": "code",
      "source": [
        "mean_loss, std_loss, min_loss, excess_risk, mean_error, std_error = run(eta=0.1, training_size=100, sigma=0.1, testing_data=testing_data, testing_labels=testing_labels)\n",
        "print(mean_loss, std_loss, min_loss, excess_risk, mean_error, std_error)\n",
        "plot_data_1[1, :] = [excess_risk, mean_error]\n",
        "yerr_1[1, :] = [std_loss, std_error]"
      ],
      "metadata": {
        "colab": {
          "base_uri": "https://localhost:8080/"
        },
        "id": "uW-KlQy5sQfc",
        "outputId": "e36de639-b602-4d61-932c-8adde6a2c381"
      },
      "execution_count": null,
      "outputs": [
        {
          "output_type": "stream",
          "name": "stdout",
          "text": [
            "0.5252464672237189 0.04598073431392381 0.45092404374511347 0.07432242347860538 0.0022222222222222222 0.011967032904743343\n"
          ]
        }
      ]
    },
    {
      "cell_type": "markdown",
      "source": [
        "### sigma = 0.1, n = 500"
      ],
      "metadata": {
        "id": "uZyJJOoEsXTn"
      }
    },
    {
      "cell_type": "code",
      "source": [
        "testing_data, testing_labels = generate_data(TESTING_SIZE, 0.1)"
      ],
      "metadata": {
        "id": "b-dZWU_rsgQy"
      },
      "execution_count": null,
      "outputs": []
    },
    {
      "cell_type": "code",
      "source": [
        "mean_loss, std_loss, min_loss, excess_risk, mean_error, std_error = run(eta=0.1, training_size=500, sigma=0.1, testing_data=testing_data, testing_labels=testing_labels)\n",
        "print(mean_loss, std_loss, min_loss, excess_risk, mean_error, std_error)\n",
        "plot_data_1[2, :] = [excess_risk, mean_error]\n",
        "yerr_1[2, :] = [std_loss, std_error]"
      ],
      "metadata": {
        "colab": {
          "base_uri": "https://localhost:8080/"
        },
        "id": "itePC3MAsdah",
        "outputId": "a580d4f0-64cc-4827-a7e7-33f1d4666601"
      },
      "execution_count": null,
      "outputs": [
        {
          "output_type": "stream",
          "name": "stdout",
          "text": [
            "0.47785024028180967 0.040046384388874215 0.4054391158557647 0.07241112442604487 0.0 0.0\n"
          ]
        }
      ]
    },
    {
      "cell_type": "markdown",
      "source": [
        "### sigma = 0.1, n = 1000"
      ],
      "metadata": {
        "id": "hiVxMgH7srzE"
      }
    },
    {
      "cell_type": "code",
      "source": [
        "testing_data, testing_labels = generate_data(TESTING_SIZE, 0.1)"
      ],
      "metadata": {
        "id": "wvQMDpjZswDN"
      },
      "execution_count": null,
      "outputs": []
    },
    {
      "cell_type": "code",
      "source": [
        "mean_loss, std_loss, min_loss, excess_risk, mean_error, std_error = run(eta=0.1, training_size=500, sigma=0.1, testing_data=testing_data, testing_labels=testing_labels)\n",
        "print(mean_loss, std_loss, min_loss, excess_risk, mean_error, std_error)\n",
        "plot_data_1[3, :] = [excess_risk, mean_error]\n",
        "yerr_1[3, :] = [std_loss, std_error]"
      ],
      "metadata": {
        "colab": {
          "base_uri": "https://localhost:8080/"
        },
        "id": "bPAsFNHIsxPH",
        "outputId": "9306b9b8-8a49-477f-e522-504500af378c"
      },
      "execution_count": null,
      "outputs": [
        {
          "output_type": "stream",
          "name": "stdout",
          "text": [
            "0.4962656117160877 0.05443547977347853 0.381607147251763 0.11465846446432464 0.0 0.0\n"
          ]
        }
      ]
    },
    {
      "cell_type": "markdown",
      "source": [
        "### Plot (sigma = 0.1)"
      ],
      "metadata": {
        "id": "_ezkeC5i7PzV"
      }
    },
    {
      "cell_type": "code",
      "source": [
        "plot_x = np.array([[50, 50], [100, 100], [500, 500], [1000, 1000]])\n",
        "plt.title(\"Sigma = 0.1 (shows standard deviation of loss)\")\n",
        "plt.xlabel(\"The number of training examples\")\n",
        "plt.ylabel(\"Values of excess risk and mean error\")\n",
        "plt.scatter(plot_x[:, 0], plot_data_1[:, 0], c = \"purple\", label = \"excess_risk\")\n",
        "plt.scatter(plot_x[:, 1], plot_data_1[:, 1], c = \"orange\", label = \"mean_error\")\n",
        "plt.errorbar(plot_x[:, 0], plot_data_1[:, 0], yerr = yerr_1[:, 0], ecolor = \"green\", elinewidth = 2, capsize = 5, label = \"Standard deviation of loss\")\n",
        "plt.legend(loc=\"upper right\")"
      ],
      "metadata": {
        "colab": {
          "base_uri": "https://localhost:8080/",
          "height": 312
        },
        "id": "0XJWLSVe8A56",
        "outputId": "84fe2679-6524-4091-f221-d146af5d6555"
      },
      "execution_count": null,
      "outputs": [
        {
          "output_type": "execute_result",
          "data": {
            "text/plain": [
              "<matplotlib.legend.Legend at 0x7f0dd85b6d90>"
            ]
          },
          "metadata": {},
          "execution_count": 199
        },
        {
          "output_type": "display_data",
          "data": {
            "text/plain": [
              "<Figure size 432x288 with 1 Axes>"
            ],
            "image/png": "[encoded data removed]"
          },
          "metadata": {
            "needs_background": "light"
          }
        }
      ]
    },
    {
      "cell_type": "code",
      "source": [
        "plot_x = np.array([[50, 50], [100, 100], [500, 500], [1000, 1000]])\n",
        "plt.title(\"Sigma = 0.1 (shows standard deviation of error)\")\n",
        "plt.xlabel(\"The number of training examples\")\n",
        "plt.ylabel(\"Values of excess risk and mean error\")\n",
        "plt.scatter(plot_x[:, 0], plot_data_1[:, 0], c = \"purple\", label = \"excess_risk\")\n",
        "plt.scatter(plot_x[:, 1], plot_data_1[:, 1], c = \"orange\", label = \"mean_error\")\n",
        "plt.errorbar(plot_x[:, 1], plot_data_1[:, 1], yerr = yerr_1[:, 1], ecolor = \"red\", elinewidth = 2, capsize = 5, label = \"Standard deviation of error\")\n",
        "plt.legend(loc=\"upper right\")"
      ],
      "metadata": {
        "colab": {
          "base_uri": "https://localhost:8080/",
          "height": 312
        },
        "id": "noBvx9eDIxKk",
        "outputId": "54cbd510-c92a-4794-ae4a-ad37e2f43d73"
      },
      "execution_count": null,
      "outputs": [
        {
          "output_type": "execute_result",
          "data": {
            "text/plain": [
              "<matplotlib.legend.Legend at 0x7f0dd83f77d0>"
            ]
          },
          "metadata": {},
          "execution_count": 200
        },
        {
          "output_type": "display_data",
          "data": {
            "text/plain": [
              "<Figure size 432x288 with 1 Axes>"
            ],
            "image/png": "[encoded data removed]"
          },
          "metadata": {
            "needs_background": "light"
          }
        }
      ]
    },
    {
      "cell_type": "markdown",
      "source": [
        "### Create an array to store excess_risks and mean_errors."
      ],
      "metadata": {
        "id": "Xw2ZtjMsDuAu"
      }
    },
    {
      "cell_type": "code",
      "source": [
        "plot_data_2 = np.zeros((4, 2))\n",
        "yerr_2 = np.zeros((4, 2))"
      ],
      "metadata": {
        "id": "DYLAO12KDvD4"
      },
      "execution_count": null,
      "outputs": []
    },
    {
      "cell_type": "markdown",
      "source": [
        "### sigma = 0.35, n = 50"
      ],
      "metadata": {
        "id": "0a2BViWGszih"
      }
    },
    {
      "cell_type": "code",
      "source": [
        "testing_data, testing_labels = generate_data(TESTING_SIZE, 0.35)"
      ],
      "metadata": {
        "id": "rn-2WWi5s35y"
      },
      "execution_count": null,
      "outputs": []
    },
    {
      "cell_type": "code",
      "source": [
        "mean_loss, std_loss, min_loss, excess_risk, mean_error, std_error = run(eta=0.1, training_size=50, sigma=0.35, testing_data=testing_data, testing_labels=testing_labels)\n",
        "print(mean_loss, std_loss, min_loss, excess_risk, mean_error, std_error)\n",
        "plot_data_2[0, :] = [excess_risk, mean_error]\n",
        "yerr_2[0, :] = [std_loss, std_error]"
      ],
      "metadata": {
        "colab": {
          "base_uri": "https://localhost:8080/"
        },
        "id": "zzm9xxT2s3Ub",
        "outputId": "39e590c9-d2e0-4704-8b1d-5b78193380f2"
      },
      "execution_count": null,
      "outputs": [
        {
          "output_type": "stream",
          "name": "stdout",
          "text": [
            "0.5793884740263437 0.10217253297637638 0.43643226756798975 0.1429562064583539 0.15333333333333332 0.06242031957861395\n"
          ]
        }
      ]
    },
    {
      "cell_type": "markdown",
      "source": [
        "### sigma = 0.35, n = 100"
      ],
      "metadata": {
        "id": "20HyO3NKtBSV"
      }
    },
    {
      "cell_type": "code",
      "source": [
        "testing_data, testing_labels = generate_data(TESTING_SIZE, 0.35)"
      ],
      "metadata": {
        "id": "-ADzj4fAtEdk"
      },
      "execution_count": null,
      "outputs": []
    },
    {
      "cell_type": "code",
      "source": [
        "mean_loss, std_loss, min_loss, excess_risk, mean_error, std_error = run(eta=0.1, training_size=100, sigma=0.35, testing_data=testing_data, testing_labels=testing_labels)\n",
        "print(mean_loss, std_loss, min_loss, excess_risk, mean_error, std_error)\n",
        "plot_data_2[1, :] = [excess_risk, mean_error]\n",
        "yerr_2[1, :] = [std_loss, std_error]"
      ],
      "metadata": {
        "colab": {
          "base_uri": "https://localhost:8080/"
        },
        "id": "DmlISxdstFfd",
        "outputId": "a4154d77-5b5a-4bc9-a128-9c7ae13d58e2"
      },
      "execution_count": null,
      "outputs": [
        {
          "output_type": "stream",
          "name": "stdout",
          "text": [
            "0.571820399181271 0.12332105869294141 0.40388175640593466 0.1679386427753363 0.12666666666666668 0.05192587309132409\n"
          ]
        }
      ]
    },
    {
      "cell_type": "markdown",
      "source": [
        "### sigma = 0.35, n = 500"
      ],
      "metadata": {
        "id": "QrZDaRGEtOVV"
      }
    },
    {
      "cell_type": "code",
      "source": [
        "testing_data, testing_labels = generate_data(TESTING_SIZE, 0.35)"
      ],
      "metadata": {
        "id": "MdU7xDoftOVV"
      },
      "execution_count": null,
      "outputs": []
    },
    {
      "cell_type": "code",
      "source": [
        "mean_loss, std_loss, min_loss, excess_risk, mean_error, std_error = run(eta=0.1, training_size=500, sigma=0.35, testing_data=testing_data, testing_labels=testing_labels)\n",
        "print(mean_loss, std_loss, min_loss, excess_risk, mean_error, std_error)\n",
        "plot_data_2[2, :] = [excess_risk, mean_error]\n",
        "yerr_2[2, :] = [std_loss, std_error]"
      ],
      "metadata": {
        "colab": {
          "base_uri": "https://localhost:8080/"
        },
        "outputId": "5f14ae6c-9c82-4c2f-9379-0418df668bf4",
        "id": "m4ZBU0SztOVW"
      },
      "execution_count": null,
      "outputs": [
        {
          "output_type": "stream",
          "name": "stdout",
          "text": [
            "0.5215048593257225 0.12415075857713984 0.34256685850172014 0.1789380008240023 0.11333333333333334 0.016329931618554516\n"
          ]
        }
      ]
    },
    {
      "cell_type": "markdown",
      "source": [
        "### sigma = 0.35, n = 1000"
      ],
      "metadata": {
        "id": "d-kJoEQJtTRP"
      }
    },
    {
      "cell_type": "code",
      "source": [
        "testing_data, testing_labels = generate_data(TESTING_SIZE, 0.35)"
      ],
      "metadata": {
        "id": "SIqKotNItTRX"
      },
      "execution_count": null,
      "outputs": []
    },
    {
      "cell_type": "code",
      "source": [
        "mean_loss, std_loss, min_loss, excess_risk, mean_error, std_error = run(eta=0.1, training_size=1000, sigma=0.35, testing_data=testing_data, testing_labels=testing_labels)\n",
        "print(mean_loss, std_loss, min_loss, excess_risk, mean_error, std_error)\n",
        "plot_data_2[3, :] = [excess_risk, mean_error]\n",
        "yerr_2[3, :] = [std_loss, std_error]"
      ],
      "metadata": {
        "colab": {
          "base_uri": "https://localhost:8080/"
        },
        "outputId": "b89c0cfc-fef0-4327-81dc-c3773613d503",
        "id": "jcP-5EGftTRX"
      },
      "execution_count": null,
      "outputs": [
        {
          "output_type": "stream",
          "name": "stdout",
          "text": [
            "0.49886402195947904 0.10104263449598976 0.35204529131746476 0.14681873064201423 0.03444444444444445 0.005983516452371672\n"
          ]
        }
      ]
    },
    {
      "cell_type": "markdown",
      "source": [
        "### Plot (sigma = 0.35)"
      ],
      "metadata": {
        "id": "-SMe5KVeEBrF"
      }
    },
    {
      "cell_type": "code",
      "source": [
        "plot_x = np.array([[50, 50], [100, 100], [500, 500], [1000, 1000]])\n",
        "plt.title(\"Sigma = 0.35 (shows standard deviation of loss)\")\n",
        "plt.xlabel(\"The number of training examples\")\n",
        "plt.ylabel(\"Values of excess risk and mean error\")\n",
        "plt.scatter(plot_x[:, 0], plot_data_2[:, 0], c = \"purple\", label = \"excess_risk\")\n",
        "plt.scatter(plot_x[:, 1], plot_data_2[:, 1], c = \"orange\", label = \"mean_error\")\n",
        "plt.errorbar(plot_x[:, 0], plot_data_2[:, 0], yerr = yerr_2[:, 0], ecolor = \"green\", elinewidth = 2, capsize = 5, label = \"Standard deviation of loss\")\n",
        "plt.legend(loc=\"upper right\")"
      ],
      "metadata": {
        "colab": {
          "base_uri": "https://localhost:8080/",
          "height": 312
        },
        "id": "Vt51apgTEFYq",
        "outputId": "043044cf-fa59-4e81-b487-e5fe3d5de7c0"
      },
      "execution_count": null,
      "outputs": [
        {
          "output_type": "execute_result",
          "data": {
            "text/plain": [
              "<matplotlib.legend.Legend at 0x7f0dd8d0a350>"
            ]
          },
          "metadata": {},
          "execution_count": 210
        },
        {
          "output_type": "display_data",
          "data": {
            "text/plain": [
              "<Figure size 432x288 with 1 Axes>"
            ],
            "image/png": "[encoded data removed]"
          },
          "metadata": {
            "needs_background": "light"
          }
        }
      ]
    },
    {
      "cell_type": "code",
      "source": [
        "plot_x = np.array([[50, 50], [100, 100], [500, 500], [1000, 1000]])\n",
        "plt.title(\"Sigma = 0.35 (shows standard deviation of error)\")\n",
        "plt.xlabel(\"The number of training examples\")\n",
        "plt.ylabel(\"Values of excess risk and mean error\")\n",
        "plt.scatter(plot_x[:, 0], plot_data_2[:, 0], c = \"purple\", label = \"excess_risk\")\n",
        "plt.scatter(plot_x[:, 1], plot_data_2[:, 1], c = \"orange\", label = \"mean_error\")\n",
        "plt.errorbar(plot_x[:, 1], plot_data_2[:, 1], yerr = yerr_2[:, 1], ecolor = \"red\", elinewidth = 2, capsize = 5, label = \"Standard deviation of error\")\n",
        "plt.legend(loc=\"upper right\")"
      ],
      "metadata": {
        "colab": {
          "base_uri": "https://localhost:8080/",
          "height": 312
        },
        "id": "fa4s1ZwLJHmZ",
        "outputId": "e046bc21-bb0f-4759-9b50-457c35815e08"
      },
      "execution_count": null,
      "outputs": [
        {
          "output_type": "execute_result",
          "data": {
            "text/plain": [
              "<matplotlib.legend.Legend at 0x7f0dd87d3a10>"
            ]
          },
          "metadata": {},
          "execution_count": 211
        },
        {
          "output_type": "display_data",
          "data": {
            "text/plain": [
              "<Figure size 432x288 with 1 Axes>"
            ],
            "image/png": "[encoded data removed]"
          },
          "metadata": {
            "needs_background": "light"
          }
        }
      ]
    }
  ]
}